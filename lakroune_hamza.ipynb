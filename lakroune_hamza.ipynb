{
 "cells": [
  {
   "cell_type": "code",
   "execution_count": 79,
   "id": "93227508-3d87-4382-a3a6-dff424d29991",
   "metadata": {},
   "outputs": [],
   "source": [
    "import pandas as pd\n",
    "import matplotlib.pyplot as plt"
   ]
  },
  {
   "cell_type": "code",
   "execution_count": 80,
   "id": "6e60cd83-c6ad-46ba-87cc-720d48f186f3",
   "metadata": {},
   "outputs": [],
   "source": [
    "\n",
    "# Lire les données du fichier \n",
    "file = pd.read_excel(\"data-sell4all.xlsx\")"
   ]
  },
  {
   "cell_type": "code",
   "execution_count": 81,
   "id": "1e86cdec-8924-40b1-b018-1b0171d34684",
   "metadata": {},
   "outputs": [
    {
     "data": {
      "text/html": [
       "<div>\n",
       "<style scoped>\n",
       "    .dataframe tbody tr th:only-of-type {\n",
       "        vertical-align: middle;\n",
       "    }\n",
       "\n",
       "    .dataframe tbody tr th {\n",
       "        vertical-align: top;\n",
       "    }\n",
       "\n",
       "    .dataframe thead th {\n",
       "        text-align: right;\n",
       "    }\n",
       "</style>\n",
       "<table border=\"1\" class=\"dataframe\">\n",
       "  <thead>\n",
       "    <tr style=\"text-align: right;\">\n",
       "      <th></th>\n",
       "      <th>Pays</th>\n",
       "      <th>Age</th>\n",
       "      <th>Genre</th>\n",
       "      <th>Dépenses des clients</th>\n",
       "    </tr>\n",
       "  </thead>\n",
       "  <tbody>\n",
       "    <tr>\n",
       "      <th>0</th>\n",
       "      <td>France</td>\n",
       "      <td>32</td>\n",
       "      <td>Female</td>\n",
       "      <td>150.50</td>\n",
       "    </tr>\n",
       "    <tr>\n",
       "      <th>1</th>\n",
       "      <td>Germany</td>\n",
       "      <td>45</td>\n",
       "      <td>Male</td>\n",
       "      <td>200.75</td>\n",
       "    </tr>\n",
       "    <tr>\n",
       "      <th>2</th>\n",
       "      <td>Spain</td>\n",
       "      <td>28</td>\n",
       "      <td>Female</td>\n",
       "      <td>75.25</td>\n",
       "    </tr>\n",
       "    <tr>\n",
       "      <th>3</th>\n",
       "      <td>Italy</td>\n",
       "      <td>39</td>\n",
       "      <td>Male</td>\n",
       "      <td>180.00</td>\n",
       "    </tr>\n",
       "    <tr>\n",
       "      <th>4</th>\n",
       "      <td>UK</td>\n",
       "      <td>52</td>\n",
       "      <td>Female</td>\n",
       "      <td>250.30</td>\n",
       "    </tr>\n",
       "  </tbody>\n",
       "</table>\n",
       "</div>"
      ],
      "text/plain": [
       "      Pays  Age    Genre Dépenses des clients\n",
       "0   France    32  Female               150.50\n",
       "1  Germany    45    Male               200.75\n",
       "2    Spain    28  Female                75.25\n",
       "3    Italy    39    Male               180.00\n",
       "4       UK    52  Female               250.30"
      ]
     },
     "execution_count": 81,
     "metadata": {},
     "output_type": "execute_result"
    }
   ],
   "source": [
    "#Afficher  les 5 premières lignes du fichier\n",
    "file.head()"
   ]
  },
  {
   "cell_type": "code",
   "execution_count": 82,
   "id": "f0b8241a-f0e6-4641-8326-c42941ab8a6e",
   "metadata": {},
   "outputs": [
    {
     "name": "stdout",
     "output_type": "stream",
     "text": [
      "Nombre de lignes  du fichier : 65\n",
      "Colonnes du fichier  : ['Pays', ' Age ', 'Genre', 'Dépenses des clients']\n",
      " les types de données des champs du fichier CSV :\n",
      "Pays                    object\n",
      " Age                    object\n",
      "Genre                   object\n",
      "Dépenses des clients    object\n",
      "dtype: object\n"
     ]
    }
   ],
   "source": [
    "#  Afficher un résumé technique des données disponibles dans le fichier\n",
    "print(f\"Nombre de lignes  du fichier : {file.shape[0]}\")\n",
    "print(f\"Colonnes du fichier  : {file.columns.tolist()}\")\n",
    "print(f\" les types de données des champs du fichier CSV :\\n{file.dtypes}\")"
   ]
  },
  {
   "cell_type": "code",
   "execution_count": 83,
   "id": "b310ea72-93a8-4800-bb95-df7e90c60dad",
   "metadata": {},
   "outputs": [
    {
     "data": {
      "text/plain": [
       "' Nombre de lignes   Indique le nombre total denregistrements dans le fichier '"
      ]
     },
     "metadata": {},
     "output_type": "display_data"
    },
    {
     "data": {
      "text/plain": [
       "' Colonnes du fichier   Liste les noms des colonnes présentes dans le fichier'"
      ]
     },
     "metadata": {},
     "output_type": "display_data"
    },
    {
     "data": {
      "text/plain": [
       "' Types de données des champs   Montre le type de données pour chaque colonne'"
      ]
     },
     "metadata": {},
     "output_type": "display_data"
    }
   ],
   "source": [
    "# Résumé Technique des Données\n",
    "markdown = \"\"\" Nombre de lignes   Indique le nombre total denregistrements dans le fichier \"\"\"\n",
    "display(markdown)\n",
    "markdown = \"\"\" Colonnes du fichier   Liste les noms des colonnes présentes dans le fichier\"\"\"\n",
    "display(markdown)\n",
    "markdown = \"\"\" Types de données des champs   Montre le type de données pour chaque colonne\"\"\"\n",
    "display(markdown)"
   ]
  },
  {
   "cell_type": "code",
   "execution_count": 84,
   "id": "13bd27dd-ca54-47c9-b32f-63fc9f9b6a6a",
   "metadata": {
    "scrolled": true
   },
   "outputs": [
    {
     "name": "stdout",
     "output_type": "stream",
     "text": [
      "\n",
      "Médiane de l'âge : 36.0\n",
      "Moyenne de l'âge : 52.42372881355932\n",
      "\n",
      "Médiane de Dépenses des clients : 167.5\n",
      "Moyenne de Dépenses des clients : 18014.616964285717\n"
     ]
    }
   ],
   "source": [
    "#  Calculer la médiane et la moyenne de colonne Age  \n",
    "file.columns = file.columns.str.strip()   # Supprimer les espaces avant et après car on a nom de colune Age est ' Age '\n",
    "# print([f\"'{col}'\" for col in file.columns]) \n",
    "\n",
    "# Convertit les valeurs de la colonne 'âge' en numérique, en remplaçant les valeurs non convertibles par NaN.\n",
    "file['Age'] = pd.to_numeric(file['Age'], errors='coerce')\n",
    "file = file.dropna(subset=['Age'])#Supprime les lignes où la colonne 'âge' contient des NaN.\n",
    "file['Age'] = file['Age'].astype(int)# Convertit les valeurs de la colonne 'âge' en type int.\n",
    "\n",
    "# Calculer la médiane\n",
    "median_age = file['Age'].median()\n",
    "print(f\"\\nMédiane de l'âge : {median_age}\")\n",
    "\n",
    "# Calculer la moyenne\n",
    "moyenne_age = file['Age'].mean()\n",
    "print(f\"Moyenne de l'âge : {moyenne_age}\")\n",
    "\n",
    "#  Calculer la médiane et la moyenne de colonne Dépenses des clients\n",
    "file.columns = file.columns.str.replace('é', 'e')  # Remplacer les accents si nécessaire\n",
    "# print([f\"'{col}'\" for col in file.columns]) \n",
    "\n",
    "# Convertit les valeurs de la colonne 'Dépenses des clients' en numérique, en remplaçant les valeurs non convertibles par NaN.\n",
    "file['Depenses des clients'] = pd.to_numeric(file['Depenses des clients'], errors='coerce')\n",
    "file = file.dropna(subset=['Depenses des clients']) #Supprime les lignes où la colonne 'Dépenses des clients' contient des NaN.\n",
    "file['Depenses des clients'] = file['Depenses des clients'].astype(float) # Convertit les valeurs de la colonne 'Dépenses des clients' en type float.\n",
    "# Calculer la médiane\n",
    "median_Depenses = file['Depenses des clients'].median()\n",
    "print(f\"\\nMédiane de Dépenses des clients : {median_Depenses}\")\n",
    "# Calculer la moyenne\n",
    "moyenne_Depenses = file['Depenses des clients'].mean()\n",
    "print(f\"Moyenne de Dépenses des clients : {moyenne_Depenses}\")"
   ]
  },
  {
   "cell_type": "code",
   "execution_count": 85,
   "id": "6353b7bc-efed-492d-b94c-884ec48654db",
   "metadata": {},
   "outputs": [
    {
     "data": {
      "image/png": "[encoded data removed]",
      "text/plain": [
       "<Figure size 1000x600 with 1 Axes>"
      ]
     },
     "metadata": {},
     "output_type": "display_data"
    }
   ],
   "source": [
    "plt.figure(figsize=(10, 6)) # Crée une nouvelle figure \n",
    "file.groupby('Pays')['Depenses des clients'].sum().plot(kind='bar') # Regroupe les données par pays, somme les dépenses des clients pour chaque pays, et crée un graphique à barres.\n",
    "plt.title('Depenses des clients par pays')\n",
    "plt.xlabel('Pays')\n",
    "plt.ylabel('Total des depenses des clients') \n",
    "plt.show() # Affiche le graphique"
   ]
  },
  {
   "cell_type": "code",
   "execution_count": 86,
   "id": "e5b97613-0ed3-4890-ab25-868366086fb3",
   "metadata": {},
   "outputs": [
    {
     "name": "stdout",
     "output_type": "stream",
     "text": [
      "\n",
      "Données nettoyées et enregistrées dans 'nouveau-data-sell4all.csv'.\n"
     ]
    }
   ],
   "source": [
    "\n",
    "# Nettoyage des données\n",
    "file_cleaned = file[file['Depenses des clients'] >= 10]  # Suppression des lignes avec des dépenses < 10€\n",
    "file_cleaned = file_cleaned.drop_duplicates()  # Suppression des doublons\n",
    "\n",
    "# Sauvegarde des données nettoyées dans un nouveau fichier CSV\n",
    "file_cleaned[['Pays', 'Age', 'Genre', 'Depenses des clients']].to_csv('nouveau-data-sell4all.csv', index=False)\n",
    "print(\"\\nDonnées nettoyées et enregistrées dans 'nouveau-data-sell4all.csv'.\")\n"
   ]
  }
 ],
 "metadata": {
  "kernelspec": {
   "display_name": "Python 3 (ipykernel)",
   "language": "python",
   "name": "python3"
  },
  "language_info": {
   "codemirror_mode": {
    "name": "ipython",
    "version": 3
   },
   "file_extension": ".py",
   "mimetype": "text/x-python",
   "name": "python",
   "nbconvert_exporter": "python",
   "pygments_lexer": "ipython3",
   "version": "3.12.3"
  }
 },
 "nbformat": 4,
 "nbformat_minor": 5
}
